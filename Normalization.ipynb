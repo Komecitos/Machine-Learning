{
  "nbformat": 4,
  "nbformat_minor": 0,
  "metadata": {
    "colab": {
      "provenance": [],
      "authorship_tag": "ABX9TyNgdyUb2NujNtg7TWVGA3S/",
      "include_colab_link": true
    },
    "kernelspec": {
      "name": "python3",
      "display_name": "Python 3"
    },
    "language_info": {
      "name": "python"
    }
  },
  "cells": [
    {
      "cell_type": "markdown",
      "metadata": {
        "id": "view-in-github",
        "colab_type": "text"
      },
      "source": [
        "<a href=\"https://colab.research.google.com/github/Komecitos/Machine-Learning/blob/main/Normalization.ipynb\" target=\"_parent\"><img src=\"https://colab.research.google.com/assets/colab-badge.svg\" alt=\"Open In Colab\"/></a>"
      ]
    },
    {
      "cell_type": "code",
      "execution_count": null,
      "metadata": {
        "id": "azV5nq0C9Wqu"
      },
      "outputs": [],
      "source": [
        "## Normalization\n",
        "\n",
        "import os\n",
        "os.listdir('sample_data')\n",
        "\n"
      ]
    },
    {
      "cell_type": "code",
      "source": [
        "import pandas as pd\n",
        "df = pd.read_csv('sample_data/california_housing_test.csv')\n",
        "df.head"
      ],
      "metadata": {
        "id": "zgWf0LA99ybT"
      },
      "execution_count": null,
      "outputs": []
    },
    {
      "cell_type": "code",
      "source": [
        "from sklearn.preprocessing import MinMaxScaler\n",
        "data = [[12000000, 33], [35000000, 45], [4000000, 23], [6500000, 26], [9000000, 29]]\n",
        "scaler = MinMaxScaler()\n",
        "scaler.fit(data)\n",
        "\n",
        "## fungsi transform untuk mengaplikasikan scaler pada data\n",
        "print(scaler.transform(data))\n",
        "\n",
        "\n"
      ],
      "metadata": {
        "id": "ogbr_7Q5_itn"
      },
      "execution_count": null,
      "outputs": []
    }
  ]
}